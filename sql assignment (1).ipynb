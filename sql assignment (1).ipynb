{
 "cells": [
  {
   "cell_type": "markdown",
   "id": "02202b48-ddfe-4e25-bb57-4ffa8e87b7f4",
   "metadata": {},
   "source": [
    "Q1. What is a database? Differentiate between SQL and NoSQL databases.\n",
    "\n",
    "Ans - A database is a structured collection of data is designed to efficiently store , retrive, manage information , databases are used to organize and store data in a way that allow for easy access , retrieval and manipulation of the data. They play a crucial role in many application and system, including website , business software and more.\n",
    "\n",
    "- SQL \n",
    "\n",
    "SQL- SQL databases are based on a relational model, which means they use tables to store data, data is organized into rows and column and relationship between different datas entities are maintained through forign keys.\n",
    "\n",
    "SQL databases are tradiionaly vertically scalable which means you can increase their capacity by adding more CPU RAM or storage to a single server . they may be less suited for handling high traffic loads or big data \n",
    "\n",
    "SQl databases are well suited for application where data integrity  and complex quering are important such as financial system , e-commerce platforms , and traditional relational data scenarios \n",
    "\n",
    "- NOSQL \n",
    "\n",
    "NOSQL databases do not use fixed schema and are more flexible in how they store data. They can use various data models including document-oriented(eg. Mongodb ) \n",
    "\n",
    "NoSQL datsbases oftem offer eventualy consistensy which means data may not always be immediately consistent across all nodes in distributed system. The trade off is often for better avaiblity ans partition tolerance \n",
    "\n",
    "NoSQL databases are often used in scenarios where flexiblity , scalablity , and speed are critical such as real time big application , content management system and iot application "
   ]
  },
  {
   "cell_type": "markdown",
   "id": "fd503db8-97a0-4157-b460-d43097cc9e87",
   "metadata": {},
   "source": [
    "Q2. What is DDL? Explain why CREATE, DROP, ALTER, and TRUNCATE are used with an example\n",
    "\n",
    "Ans - DDl stands for data definition language , which is a subset of SQL used to defining and managing the structure and schema of a database.DDl statement are used to create , modify and delete databases objects such as tables ,indexes , and constraints . DDL statement do not manipulate the data whithin databses; instead they define the databses structure \n",
    "\n",
    "CREATE \n",
    "\n",
    "the CREATE statement is used to create new databses objects ,such as tables , indexes views or constaints \n",
    "\n",
    "Example \n",
    "\n",
    "\n"
   ]
  },
  {
   "cell_type": "code",
   "execution_count": null,
   "id": "80bad4d2-287e-482a-b08c-d67cb8164d0c",
   "metadata": {},
   "outputs": [],
   "source": [
    "CREATE TABLE Customers (\n",
    "    CustomerID INT PRIMARY KEY,\n",
    "    FirstName VARCHAR(50),\n",
    "    LastName VARCHAR(50),\n",
    "    Email VARCHAR(100)\n",
    ");\n"
   ]
  },
  {
   "cell_type": "markdown",
   "id": "96383847-f943-4805-8bd4-43d8350078a3",
   "metadata": {},
   "source": [
    "DROP \n",
    "The DROP statement is used to delete existing databases objects Once an object is dropped. it is peramanently removed from the databases \n",
    "\n",
    "Example"
   ]
  },
  {
   "cell_type": "code",
   "execution_count": null,
   "id": "ac403d41-a89e-4033-bc95-7b25d3a665c6",
   "metadata": {},
   "outputs": [],
   "source": [
    "DROP TABLE Customers;"
   ]
  },
  {
   "cell_type": "markdown",
   "id": "ba8da106-33e7-43b7-94fc-6f67597d21bc",
   "metadata": {},
   "source": [
    "ALTER -\n",
    "The ALTER statement is used to modify the structure of an existing databases object such as adding or removing columns or indexes \n",
    "\n",
    "example adding a new column to an existing table "
   ]
  },
  {
   "cell_type": "code",
   "execution_count": null,
   "id": "ffb62f7f-bbc6-4ba5-ba0c-a30cbb505fff",
   "metadata": {},
   "outputs": [],
   "source": [
    "ALTER TABLE Customers \n",
    "ADD PhoneNumber VAECHAR(20);\n"
   ]
  },
  {
   "cell_type": "markdown",
   "id": "2e037f8c-d2ee-492b-b91f-708f8d737fb0",
   "metadata": {},
   "source": [
    "TRUNCATE\n",
    "The TRUNCATE statement is used to remove all rows from a table , but it retains the table structure it is a faster and less resoures -intensive way to remove data from a table compared to DELETE\n",
    "\n",
    "Example"
   ]
  },
  {
   "cell_type": "code",
   "execution_count": null,
   "id": "4c0544ac-8469-4d98-97fc-ee0ebac9c1a8",
   "metadata": {},
   "outputs": [],
   "source": [
    "TRUNCATE TABLE Customers;\n"
   ]
  },
  {
   "cell_type": "markdown",
   "id": "c0dc1a08-d499-4658-aaf6-841a611d6f55",
   "metadata": {},
   "source": [
    "Q3. What is DML? Explain INSERT, UPDATE, and DELETE with an example\n",
    "\n",
    "Ans - \n",
    "DML stands for Data Manipulation Language. It is a set of SQL commands used to manipulate and query the data stored in a database. It includes commands to insert, update, delete, and select data from tables:\n",
    "\n",
    "INSERT It is used to add a new rows of data to an existing table. For example, you can use the INSERT INFO command to add a new user to the \"users\" table with the name \"John\", email john@gmail.com\" and password \"123345\"\n",
    "\n",
    "UPDATE: It is used to modify existing data in a table. For example, you can use the UPDATE command to change the email address of the user with the ID of 1 in the \"users\" table to \"newemail@example.com\"\n",
    "\n",
    "DELETE It is used to remove data from a table. For example, you can use the DELETE FROM command to remove all the users from the \"users\" table who have not logged in for more than 6 months."
   ]
  },
  {
   "cell_type": "markdown",
   "id": "3c4ae927-68c0-4c00-af5c-9b75687bfbbe",
   "metadata": {},
   "source": [
    "Q4 . What is DQL ? Explain SELECT with an example \n",
    "\n",
    "Ans - \n",
    "DQl stands for data query language , is a subset of SQL that is used for retrieving data from a relational databases. The primary and most commonly used DQL statement is SELECT . it allows you to query and retrieve data from one or more tables in a databases \n",
    "\n",
    "SELECT statment is used to retrieve data one or more tables in a databses. it can specify the column to be retrieved condition for filtering data and even perform operation like join and sorting \n",
    "\n",
    "EXAMPLE \n",
    "\n",
    "SELECT column1, column2, ...\n",
    "\n",
    "FROM table_name\n",
    "\n",
    "WHERE condition;\n",
    "\n",
    "EXPAINATION \n",
    "\n",
    "column1, column2, ... - the column you want to retrieve from the data \n",
    "\n",
    "table_name : The name the table from which you want to retieve \n",
    "\n",
    "condition : (optional) specifies condition for filtering the data  it is used in th WHERE clause to limit the result to specify rows that meet certain criteria "
   ]
  },
  {
   "cell_type": "markdown",
   "id": "be7f9eac-2c2b-4823-a68d-d16faf4df6d4",
   "metadata": {},
   "source": [
    "Q5. Explain Primary Key and Foreign Key.\n",
    "\n",
    "Ans - \n",
    "PRIMARY KEY - A primary key is a set of columns in a table that uniquely identifies each row of data in that table. It is used to enforce the integrity of the data by preventing duplicate or null values from being inserted into the table.\n",
    "\n",
    "FOREIGN KEY :- A foreign key is a set of columns in a table that refers to the primary key of another table. It is used to create a relationship between two tables, allowing data to be linked and quried across multiples tables."
   ]
  },
  {
   "cell_type": "markdown",
   "id": "b9158142-1275-4bf4-bc52-7a8b953d9eb5",
   "metadata": {},
   "source": [
    "Q6. Write a python code to connect MySQL to python. Explain the cursor() and execute() method.\n",
    "\n",
    "Ans -"
   ]
  },
  {
   "cell_type": "code",
   "execution_count": null,
   "id": "4ef4c58b-a6a8-4cb9-8be1-b1ce8c6b358e",
   "metadata": {},
   "outputs": [],
   "source": [
    "import mysql.connector \n",
    "mydb = mysql.connector.connect(\n",
    "    host \"localhost\", \n",
    "    user \"abc\", \n",
    "    password=\"password\"\n",
    ")\n",
    "mycursor mydb.cursor()\n",
    "\n",
    "mycursor.execute(\"CREATE DATABASE if not exists test3\")\n",
    "\n",
    "mydb.close()\n",
    "                                                    "
   ]
  },
  {
   "cell_type": "markdown",
   "id": "72758b76-d621-4ea7-aa03-330745273401",
   "metadata": {},
   "source": [
    "CURSOR METHOD - It is used to establish a cursor object in Python that allows you to interact with a database.\n",
    "\n",
    "EXECUTE METHOD: It is used to execute an SQL query on a cursor object. It takes an SQL query as a parameter and returns the result of the query."
   ]
  },
  {
   "cell_type": "markdown",
   "id": "68f553d8-3d2e-46fc-a9b4-a72989b10bc5",
   "metadata": {},
   "source": [
    "Q7. Give the order of execution of SQL clauses in an SQL query\n",
    "\n",
    "Ans -\n",
    "The order of execution of SQL clauses in a SQL query is as follows:\n",
    "\n",
    "[1.] FROM clause: This clause specifies the tables from which the data is to be retrived.\n",
    "\n",
    "[2] WHERE clause: This clause filters the data based on specific conditions.\n",
    "\n",
    "[3] GROUP BY clause-- This clause filters the data based on specific columns.\n",
    "\n",
    "[4] HAVING clause - This clause filters the grouped data based on specific.\n",
    "\n",
    "[5] SELECT clause: This clause selects the columns to be included in the result set.\n",
    "\n",
    "[6.] ORDER clause - This clause sorts the result set based on specific columns.\n",
    "\n",
    "[7] LIMIT clause - This clause limits the number of rows returned by the query."
   ]
  },
  {
   "cell_type": "code",
   "execution_count": null,
   "id": "c901adf0-9297-46bc-9986-6d98485020a3",
   "metadata": {},
   "outputs": [],
   "source": []
  }
 ],
 "metadata": {
  "kernelspec": {
   "display_name": "Python 3 (ipykernel)",
   "language": "python",
   "name": "python3"
  },
  "language_info": {
   "codemirror_mode": {
    "name": "ipython",
    "version": 3
   },
   "file_extension": ".py",
   "mimetype": "text/x-python",
   "name": "python",
   "nbconvert_exporter": "python",
   "pygments_lexer": "ipython3",
   "version": "3.10.8"
  }
 },
 "nbformat": 4,
 "nbformat_minor": 5
}
